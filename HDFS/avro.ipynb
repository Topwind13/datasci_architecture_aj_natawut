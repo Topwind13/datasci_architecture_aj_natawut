{
 "cells": [
  {
   "cell_type": "code",
   "execution_count": null,
   "id": "34773236",
   "metadata": {},
   "outputs": [],
   "source": [
    "import pandas as pd\n",
    "import fastavro as favro\n",
    "import json, os"
   ]
  },
  {
   "cell_type": "code",
   "execution_count": null,
   "id": "45eb21c9",
   "metadata": {},
   "outputs": [],
   "source": [
    "schema = json.load(open('tweets_v8.avsc'))\n",
    "parsed_schema = favro.parse_schema(schema)"
   ]
  },
  {
   "cell_type": "code",
   "execution_count": null,
   "id": "96cbfd31",
   "metadata": {},
   "outputs": [],
   "source": [
    "parse_dates = ['user_created', 'date']\n",
    "df = pd.read_csv('tweets_v8.csv', parse_dates=parse_dates, keep_default_na=False)\n",
    "df.shape"
   ]
  },
  {
   "cell_type": "code",
   "execution_count": null,
   "id": "5973d1ab",
   "metadata": {},
   "outputs": [],
   "source": [
    "records = df.to_dict('records')"
   ]
  },
  {
   "cell_type": "code",
   "execution_count": null,
   "id": "2c123d1b",
   "metadata": {},
   "outputs": [],
   "source": [
    "with open('tweets_v8.avro', 'wb') as out:\n",
    "    favro.writer(out, parsed_schema, records)"
   ]
  },
  {
   "cell_type": "code",
   "execution_count": null,
   "id": "b90b8e41",
   "metadata": {},
   "outputs": [],
   "source": [
    "with open('tweets_v8_deflate.avro', 'wb') as out:\n",
    "    favro.writer(out, parsed_schema, records, codec='deflate')"
   ]
  },
  {
   "cell_type": "code",
   "execution_count": null,
   "id": "4e94206d",
   "metadata": {},
   "outputs": [],
   "source": [
    "print('tweets_v8.csv = {:5.2f}MB'.format(os.path.getsize('tweets_v8.csv')/(1024*1024)))\n",
    "print('tweets_v8.avro = {:5.2f}MB'.format(os.path.getsize('tweets_v8.avro')/(1024*1024)))\n",
    "print('tweets_v8_deflate.avro = {:5.2f}MB'.format(os.path.getsize('tweets_v8_deflate.avro')/(1024*1024)))"
   ]
  },
  {
   "cell_type": "code",
   "execution_count": null,
   "id": "63a52882",
   "metadata": {},
   "outputs": [],
   "source": []
  }
 ],
 "metadata": {
  "kernelspec": {
   "display_name": "Python 3 (ipykernel)",
   "language": "python",
   "name": "python3"
  },
  "language_info": {
   "codemirror_mode": {
    "name": "ipython",
    "version": 3
   },
   "file_extension": ".py",
   "mimetype": "text/x-python",
   "name": "python",
   "nbconvert_exporter": "python",
   "pygments_lexer": "ipython3",
   "version": "3.9.15"
  }
 },
 "nbformat": 4,
 "nbformat_minor": 5
}
