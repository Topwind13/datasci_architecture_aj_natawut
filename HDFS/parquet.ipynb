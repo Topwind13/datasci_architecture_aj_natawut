{
 "cells": [
  {
   "cell_type": "code",
   "execution_count": null,
   "id": "34773236",
   "metadata": {},
   "outputs": [],
   "source": [
    "import pandas as pd\n",
    "import os"
   ]
  },
  {
   "cell_type": "code",
   "execution_count": null,
   "id": "96cbfd31",
   "metadata": {},
   "outputs": [],
   "source": [
    "parse_dates = ['user_created', 'date']\n",
    "df = pd.read_csv('tweets_v8.csv', parse_dates=parse_dates, keep_default_na=False)\n",
    "df.shape"
   ]
  },
  {
   "cell_type": "code",
   "execution_count": null,
   "id": "4e1c08f0",
   "metadata": {},
   "outputs": [],
   "source": [
    "df.to_parquet('tweets_v8.par', compression=None)"
   ]
  },
  {
   "cell_type": "code",
   "execution_count": null,
   "id": "c83c871e",
   "metadata": {},
   "outputs": [],
   "source": [
    "df.to_parquet('tweets_v8_snappy.par')"
   ]
  },
  {
   "cell_type": "code",
   "execution_count": null,
   "id": "4e94206d",
   "metadata": {},
   "outputs": [],
   "source": [
    "print('tweets_v8.csv = {:5.2f}MB'.format(os.path.getsize('tweets_v8.csv')/(1024*1024)))\n",
    "print('tweets_v8.par = {:5.2f}MB'.format(os.path.getsize('tweets_v8.par')/(1024*1024)))\n",
    "print('tweets_v8_snappy.par = {:5.2f}MB'.format(os.path.getsize('tweets_v8_snappy.par')/(1024*1024)))"
   ]
  },
  {
   "cell_type": "code",
   "execution_count": null,
   "id": "63a52882",
   "metadata": {},
   "outputs": [],
   "source": []
  }
 ],
 "metadata": {
  "kernelspec": {
   "display_name": "Python 3 (ipykernel)",
   "language": "python",
   "name": "python3"
  },
  "language_info": {
   "codemirror_mode": {
    "name": "ipython",
    "version": 3
   },
   "file_extension": ".py",
   "mimetype": "text/x-python",
   "name": "python",
   "nbconvert_exporter": "python",
   "pygments_lexer": "ipython3",
   "version": "3.9.15"
  }
 },
 "nbformat": 4,
 "nbformat_minor": 5
}
